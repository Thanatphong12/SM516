{
 "cells": [
  {
   "cell_type": "markdown",
   "metadata": {},
   "source": [
    "# <center> Chapter 1"
   ]
  },
  {
   "cell_type": "markdown",
   "metadata": {},
   "source": [
    "## <center> Optimization Problem"
   ]
  },
  {
   "cell_type": "markdown",
   "metadata": {},
   "source": [
    "Introduction Optimization problems deal with finding the best way to do a problem. Pubject to any constraints or restriention on the actions that may be taken to accomplish the task. Many problem can be possed as optimization problems."
   ]
  },
  {
   "cell_type": "markdown",
   "metadata": {},
   "source": [
    "## Ex. Of optimizartion problems"
   ]
  },
  {
   "cell_type": "markdown",
   "metadata": {},
   "source": [
    "* choosing an investing portfolio to minimize risk or to maximize its return.\n",
    "* maximizing the prodit obtained from selling differend products.\n",
    "* the design of the shope of an aircraft to maximize the aircraft performance of minimize the constuetions cost.\n",
    "\n"
   ]
  },
  {
   "cell_type": "markdown",
   "metadata": {},
   "source": [
    "## The standard from of the optimization problems"
   ]
  },
  {
   "cell_type": "markdown",
   "metadata": {},
   "source": [
    "Minimize $ f( x̄ )\t, $ x̄ ∈ $x̄^{\\rm n}$ <br>\n",
    "Subject to\t$x̄ ∈ Ω$ <br>\n",
    "When $x̄$ is a column vector with n elements and x̄ is a row vector\n"
   ]
  },
  {
   "cell_type": "markdown",
   "metadata": {},
   "source": [
    "$$\n",
    "x̄\n",
    "=\n",
    "\\left[\n",
    "\\begin{array}{}\n",
    "X_1 \\\\ X_2 \\\\ X_3 \\\\ . \\\\ . \\\\ . \\\\ X_n\n",
    "\\end{array}\n",
    "\\right]\n",
    ",\n",
    "x̄^{\\rm T}\n",
    "=\n",
    "\\left[\n",
    "\\begin{array}{}\n",
    "  X_1 & X_2  & X_3 &  . &  . &  . &  X_n\n",
    "\\end{array}\n",
    "\\right]\n",
    "$$"
   ]
  },
  {
   "cell_type": "markdown",
   "metadata": {},
   "source": [
    "or"
   ]
  },
  {
   "cell_type": "markdown",
   "metadata": {},
   "source": [
    "$$\n",
    "x̄\n",
    "=\n",
    "\\left[\n",
    "\\begin{array}{}\n",
    "X_1 \\\\ X_2 \\\\ X_3 \\\\ . \\\\ . \\\\ . \\\\ X_n\n",
    "\\end{array}\n",
    "\\right]\n",
    "=\n",
    "\\left[\n",
    "\\begin{array}{}\n",
    "  X_1 & X_2  & X_3 &  . &  . &  . &  X_n\n",
    "\\end{array}\n",
    "\\right ]\n",
    "^{\\rm T}\n",
    "$$"
   ]
  },
  {
   "cell_type": "markdown",
   "metadata": {},
   "source": [
    "> The Euclidean length : $||x̄||$ of  x̄   ∈  $R^n$  is $||x̄||$ = $(\\sum_{i=1}^nx_i^2)^\\frac{1}{2} $"
   ]
  },
  {
   "cell_type": "markdown",
   "metadata": {},
   "source": [
    "> The function $f(\\bar x)$ is called the objective function the set Ω is a subject of n-dimension. Euclidean space $R^n(Ω \\subset R^n)$ called the **\"Feasible region\"**"
   ]
  },
  {
   "cell_type": "markdown",
   "metadata": {},
   "source": [
    "> If $Ω$ consists of all points  $\\bar x \\in R^n $ which satisfiy all the constraints ($Ω = R^n$) , then the problem is **\"Unconstrained\"**"
   ]
  },
  {
   "cell_type": "markdown",
   "metadata": {},
   "source": [
    "> If $Ω⊂𝑅^n$ , then the problem is **constrained**"
   ]
  },
  {
   "cell_type": "markdown",
   "metadata": {},
   "source": [
    "Any problem posed as maximization problem can be converted to be a minimization problem by changing the sign of the objective function."
   ]
  },
  {
   "cell_type": "markdown",
   "metadata": {},
   "source": [
    "> The problem : max $ f(\\bar x)$ subj. to $ \\bar x ∈  Ω$ $\\Rightarrow$ min - $f(\\bar x)$ </div> subj. to $ \\bar x ∈  Ω$\n"
   ]
  },
  {
   "cell_type": "markdown",
   "metadata": {},
   "source": [
    "\\*** when max $ f(\\bar x)$ and min $ f(\\bar x)$ have the same solution "
   ]
  },
  {
   "cell_type": "markdown",
   "metadata": {},
   "source": [
    "<img src=\"Images/graph1.png\" width=400 align=\"center\">"
   ]
  },
  {
   "cell_type": "markdown",
   "metadata": {},
   "source": [
    "## The feasible regimΩ"
   ]
  },
  {
   "cell_type": "markdown",
   "metadata": {},
   "source": [
    "Ω ={ $ x̄ ∈  R^n $ | $e_i(x̄)$ = 0 ,$∀i$ ∈ E (Equlity constraints)<br>$e_i(x̄)$ = 0 ,$∀i ∈ I$ (Inequlity constraints)}\n",
    "<br>min $f(x̄)$ , $ x̄ ∈ ∀ R^n $<br>subject to $e_i(x̄)$ = 0 ,i = 1,2,...,m<br>$e_i(x̄)$ ≤ 0 ,i = 1,2,...,n"
   ]
  },
  {
   "cell_type": "markdown",
   "metadata": {},
   "source": [
    "## <u>Ex1.<u> (Post office parcel problem)"
   ]
  },
  {
   "cell_type": "markdown",
   "metadata": {},
   "source": [
    "The length plus the girth of any parcel sent throngh the post must not exceed 1.8 meters and length as the distance perpendicular to the length around the parcel.What are the dimension of the parcel with rectangular sides of the largest volume that could be sent throngh the post ?"
   ]
  },
  {
   "cell_type": "markdown",
   "metadata": {},
   "source": [
    "Let $ X_1$ = length<br> $X_2$ = width<br>$X_3$ = depth"
   ]
  },
  {
   "cell_type": "markdown",
   "metadata": {},
   "source": [
    "<img src=\"Images/box.png\" width=400 align=\"center\">"
   ]
  },
  {
   "cell_type": "markdown",
   "metadata": {},
   "source": [
    " Max volume $ f(x̄) = X_1 X_2 X_3 $   <br>\n",
    "Subject to  $ X_1 + 2X_2 + 2X_3 ≤  1.8  $ (meters)<br>\n",
    "            $  X_1,X_2,X_3  ≥  0 $ <br>\n",
    "Maximize   Max $ f(x̄) = X_1 X_2 X_3 $   $\\rightarrow$     Min $ f(x̄) = -X_1 X_2 X_3 $ <br>\n",
    "Subject to  $  X_1 + 2X_2 + 2X_3 ≤  1.8 $ $\\rightarrow$  Subject to $ C1 : X_1 + 2X_2 + 2X_3 - 1.8 ≤ 0 $ <br>\n",
    "$ X_1 ≥ 0, X_2 ≥ 0, X_3 ≥ 0 ,X_2 ≤ X_1 ,X_3 ≤ X_1 $ $\\rightarrow$  $ C2:-X_1≤0 , C3:-X_2≤0 ,C4:-X_3≤0 ,C5:X_2-X_1≤0 ,C6:X_3-X_1≤0 $"
   ]
  },
  {
   "cell_type": "markdown",
   "metadata": {},
   "source": [
    "## <u>Ex2.<u> (Portfolio Optimization) (โจทย์ในชีท)"
   ]
  },
  {
   "cell_type": "markdown",
   "metadata": {},
   "source": [
    "Let  $X_1$ = percontage of assets aer allocated to the property trust.<br>\n",
    "$X_2$ = percontage of assets are allocated to the share trust and $ 0 ≤ X_1 ≤ 1 $ , $ i = 1,2  $ and $ X_1 + X_2 ≤ 1 $<br>\n",
    "constraints : $ 0.2 ≤ X_1 ≤ 0.8    ,0.1 ≤ X_2 ≤1 $  , $ x̄ =\n",
    "\\left[\n",
    "\\begin{array}{rrr}\n",
    "X_1  \\\\\n",
    "X_2 \\\\\n",
    "\\end{array}\n",
    "\\right] $\n"
   ]
  },
  {
   "cell_type": "markdown",
   "metadata": {},
   "source": [
    "The feasible region : Ω <br>\n",
    "$ Ω = {{ x̄ ∈ R^n| \\left[\n",
    "\\begin{array}{rrr}\n",
    "0.2  \\\\\n",
    "0.1 \\\\\n",
    "\\end{array}\n",
    "\\right]} ≤ x̄ ≤  \\left[\n",
    "\\begin{array}{rrr}\n",
    "0.8  \\\\\n",
    "1 \\\\\n",
    "\\end{array}\n",
    "\\right]}, X_1 + X_2 ≤ 1  $"
   ]
  },
  {
   "cell_type": "markdown",
   "metadata": {},
   "source": [
    "## 1.1) Maximize the expected return\n",
    "* Expected Return is $ 0.05X_1 + 0.12X_2 = r^T_x̄   column  r =  \\left[\n",
    "\\begin{array}{rrr}\n",
    "0.05  \\\\\n",
    "0.12 \\\\\n",
    "\\end{array}\n",
    "\\right] and  x̄ =  \\left[\n",
    "\\begin{array}{rrr}\n",
    "X_1  \\\\\n",
    "X_2 \\\\\n",
    "\\end{array}\n",
    "\\right] $  $\\rightarrow$  $ r^Tx̄ = x̄^Tr  =  \\left[\n",
    "\\begin{array}{rrr}\n",
    "X_1 & X_2  \\\\\n",
    "\\end{array}\n",
    "\\right] \\left[\n",
    "\\begin{array}{rrr}\n",
    "0.05  \\\\\n",
    "0.12 \\\\\n",
    "\\end{array}\n",
    "\\right]  = 0.05X_1 + 0.12X_2 $\n",
    "\n",
    "* Optimizatiom problme :<br>\n",
    "Max $ F_r(x̄) = x̄^Tr  ,  x̄ ∈ R^n $ <br>\n",
    "Subject to $ x̄ ∈ Ω $\n",
    "                        "
   ]
  },
  {
   "cell_type": "markdown",
   "metadata": {},
   "source": [
    "## 1.2) Minimize Risk\n",
    "* The risk of the investment portfolio , as ruesured by the variance of the portfolio is "
   ]
  },
  {
   "cell_type": "markdown",
   "metadata": {},
   "source": [
    "$$ x̄^Tx̄ = \\left[\n",
    "\\begin{array}{rrr}\n",
    "X_1 & X_2 \\\\\n",
    "\\end{array}\n",
    "\\right] \n",
    "\\left[\n",
    "\\begin{array}{rrr}\n",
    "0.3 & -0.2  \\\\\n",
    "0.2 & 0.45 \\\\\n",
    "\\end{array}\n",
    "\\right]\n",
    "\\left[\n",
    "\\begin{array}{rrr}\n",
    "X_1  \\\\\n",
    "X_2 \\\\\n",
    "\\end{array}\n",
    "\\right]\n",
    "= \\left[\n",
    "\\begin{array}{rrr}\n",
    "0.3X_1 -0.2X_2-0.2X_1+0.45X_2 \\\\\n",
    "\\end{array}\n",
    "\\right]\n",
    "\\left[\n",
    "\\begin{array}{rrr}\n",
    "X_1  \\\\\n",
    "X_2 \\\\\n",
    "\\end{array}\n",
    "\\right]\n",
    "= 0.3X_1^2 + 0.45X_2^2 - 0.4X_1X_2 $$<br>\n",
    "As all constraints are linear and objectives function is qucdratic , this is qucdratic programming problem."
   ]
  },
  {
   "cell_type": "markdown",
   "metadata": {},
   "source": [
    "## 1.3)The invester has 2 completing objectives :\n",
    "* to wish maximize their returns while at the same time miniming their risk.\n",
    "* This is cm example of multi-objectives when the weight are nonnegative and add up to 1. This gives <br>\n",
    " $ α_1f_r(x̄) + α_2f_c(x̄) $ where  $ α_1 ≥ 0, α_2 ≥ 0 $ and $ α_1 + α_2 = 1$  $\\rightarrow$ $ α_1 = 1 - α_2 $<br>\n",
    " Min $ f_β $"
   ]
  }
 ],
 "metadata": {
  "kernelspec": {
   "display_name": "Python 3",
   "language": "python",
   "name": "python3"
  },
  "language_info": {
   "codemirror_mode": {
    "name": "ipython",
    "version": 3
   },
   "file_extension": ".py",
   "mimetype": "text/x-python",
   "name": "python",
   "nbconvert_exporter": "python",
   "pygments_lexer": "ipython3",
   "version": "3.7.6"
  }
 },
 "nbformat": 4,
 "nbformat_minor": 2
}
